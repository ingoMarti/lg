{
 "cells": [
  {
   "cell_type": "markdown",
   "metadata": {},
   "source": [
    "### References"
   ]
  },
  {
   "cell_type": "markdown",
   "metadata": {},
   "source": [
    "To built our model we have search many sources of informaction through the internet."
   ]
  },
  {
   "cell_type": "markdown",
   "metadata": {},
   "source": [
    "https://towardsdatascience.com/dont-sweat-the-solver-stuff-aea7cddc3451 # parameters\n",
    "\n",
    "https://scikit-learn.org/stable/modules/naive_bayes.html # naive model\n",
    "\n",
    "https://towardsdatascience.com/tagged/scikit-learn # sk\n",
    "\n",
    "https://medium.com/vickdata/a-simple-guide-to-scikit-learn-pipelines-4ac0d974bdcf # pipelines\n",
    "\n",
    "https://medium.com/@benfenison/gridsearching-a-random-forest-classifier-fc225609699c # rf\n",
    "\n",
    "https://medium.com/fintechexplained/how-to-save-trained-machine-learning-models-649c3ad1c018 # pickle\n",
    "\n",
    "https://machinelearningmastery.com/rfe-feature-selection-in-python/ # feature engineering"
   ]
  }
 ],
 "metadata": {
  "kernelspec": {
   "display_name": "LG",
   "language": "python",
   "name": "lendinggroup"
  },
  "language_info": {
   "codemirror_mode": {
    "name": "ipython",
    "version": 3
   },
   "file_extension": ".py",
   "mimetype": "text/x-python",
   "name": "python",
   "nbconvert_exporter": "python",
   "pygments_lexer": "ipython3",
   "version": "3.8.5"
  }
 },
 "nbformat": 4,
 "nbformat_minor": 4
}
