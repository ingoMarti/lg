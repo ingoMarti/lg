{
 "cells": [
  {
   "cell_type": "markdown",
   "metadata": {},
   "source": [
    "# Support Vector Machine SVM"
   ]
  },
  {
   "cell_type": "markdown",
   "metadata": {},
   "source": [
    "Son modelos de aprendizaje supervisado con algoritmos de aprendizaje asociados que analizan los datos historicos para el análisis de clasificación y regresión. Sin embargo, se utilizan principalmente en problemas de clasificación."
   ]
  },
  {
   "cell_type": "markdown",
   "metadata": {},
   "source": [
    "# Librerias"
   ]
  },
  {
   "cell_type": "code",
   "execution_count": 32,
   "metadata": {},
   "outputs": [],
   "source": [
    "import pandas as pd \n",
    "import numpy as np\n",
    "import pandas_profiling\n",
    "import seaborn as sns\n",
    "import sklearn as sk\n",
    "from matplotlib import pyplot as plt\n",
    "from sklearn.model_selection import train_test_split\n",
    "from sklearn import preprocessing\n",
    "from sklearn.svm import SVC\n",
    "from sklearn.metrics import confusion_matrix\n",
    "from sklearn.metrics import plot_confusion_matrix\n",
    "from sklearn.model_selection import GridSearchCV\n",
    "from sklearn.metrics import accuracy_score\n",
    "import pickle"
   ]
  },
  {
   "cell_type": "markdown",
   "metadata": {},
   "source": [
    "# Carga de dataset"
   ]
  },
  {
   "cell_type": "markdown",
   "metadata": {},
   "source": [
    "Utilizamos el dataset que hemos dejado al final de notebook anterior, despues de hacer el EDA y feature engineering"
   ]
  },
  {
   "cell_type": "code",
   "execution_count": 33,
   "metadata": {},
   "outputs": [],
   "source": [
    "svm = pd.read_csv('data_modelos.csv',  usecols=lambda x: 'Unnamed' not in x,)"
   ]
  },
  {
   "cell_type": "code",
   "execution_count": 34,
   "metadata": {},
   "outputs": [
    {
     "data": {
      "text/html": [
       "<div>\n",
       "<style scoped>\n",
       "    .dataframe tbody tr th:only-of-type {\n",
       "        vertical-align: middle;\n",
       "    }\n",
       "\n",
       "    .dataframe tbody tr th {\n",
       "        vertical-align: top;\n",
       "    }\n",
       "\n",
       "    .dataframe thead th {\n",
       "        text-align: right;\n",
       "    }\n",
       "</style>\n",
       "<table border=\"1\" class=\"dataframe\">\n",
       "  <thead>\n",
       "    <tr style=\"text-align: right;\">\n",
       "      <th></th>\n",
       "      <th>loan_amnt</th>\n",
       "      <th>installment</th>\n",
       "      <th>grade</th>\n",
       "      <th>emp_length</th>\n",
       "      <th>home_ownership</th>\n",
       "      <th>annual_inc</th>\n",
       "      <th>verification_status</th>\n",
       "      <th>dti</th>\n",
       "      <th>delinq_2yrs</th>\n",
       "      <th>fico_range_high</th>\n",
       "      <th>...</th>\n",
       "      <th>num_tl_120dpd_2m</th>\n",
       "      <th>num_tl_30dpd</th>\n",
       "      <th>num_tl_90g_dpd_24m</th>\n",
       "      <th>num_tl_op_past_12m</th>\n",
       "      <th>pct_tl_nvr_dlq</th>\n",
       "      <th>pub_rec_bankruptcies</th>\n",
       "      <th>total_bc_limit</th>\n",
       "      <th>total_il_high_credit_limit</th>\n",
       "      <th>debt_settlement_flag</th>\n",
       "      <th>Target</th>\n",
       "    </tr>\n",
       "  </thead>\n",
       "  <tbody>\n",
       "    <tr>\n",
       "      <th>0</th>\n",
       "      <td>11575</td>\n",
       "      <td>359.26</td>\n",
       "      <td>1</td>\n",
       "      <td>6</td>\n",
       "      <td>OWN</td>\n",
       "      <td>153000.0</td>\n",
       "      <td>Not Verified</td>\n",
       "      <td>16.99</td>\n",
       "      <td>0</td>\n",
       "      <td>724</td>\n",
       "      <td>...</td>\n",
       "      <td>0.0</td>\n",
       "      <td>0</td>\n",
       "      <td>0</td>\n",
       "      <td>2</td>\n",
       "      <td>95.7</td>\n",
       "      <td>1</td>\n",
       "      <td>28100</td>\n",
       "      <td>120572</td>\n",
       "      <td>N</td>\n",
       "      <td>1</td>\n",
       "    </tr>\n",
       "    <tr>\n",
       "      <th>1</th>\n",
       "      <td>7200</td>\n",
       "      <td>285.70</td>\n",
       "      <td>5</td>\n",
       "      <td>2</td>\n",
       "      <td>RENT</td>\n",
       "      <td>50000.0</td>\n",
       "      <td>Source Verified</td>\n",
       "      <td>6.07</td>\n",
       "      <td>0</td>\n",
       "      <td>689</td>\n",
       "      <td>...</td>\n",
       "      <td>0.0</td>\n",
       "      <td>0</td>\n",
       "      <td>0</td>\n",
       "      <td>0</td>\n",
       "      <td>80.0</td>\n",
       "      <td>0</td>\n",
       "      <td>3600</td>\n",
       "      <td>4000</td>\n",
       "      <td>N</td>\n",
       "      <td>1</td>\n",
       "    </tr>\n",
       "    <tr>\n",
       "      <th>2</th>\n",
       "      <td>7500</td>\n",
       "      <td>232.79</td>\n",
       "      <td>1</td>\n",
       "      <td>7</td>\n",
       "      <td>MORTGAGE</td>\n",
       "      <td>110000.0</td>\n",
       "      <td>Not Verified</td>\n",
       "      <td>13.12</td>\n",
       "      <td>0</td>\n",
       "      <td>714</td>\n",
       "      <td>...</td>\n",
       "      <td>0.0</td>\n",
       "      <td>0</td>\n",
       "      <td>0</td>\n",
       "      <td>3</td>\n",
       "      <td>100.0</td>\n",
       "      <td>0</td>\n",
       "      <td>83700</td>\n",
       "      <td>32239</td>\n",
       "      <td>N</td>\n",
       "      <td>1</td>\n",
       "    </tr>\n",
       "    <tr>\n",
       "      <th>3</th>\n",
       "      <td>10000</td>\n",
       "      <td>243.29</td>\n",
       "      <td>3</td>\n",
       "      <td>7</td>\n",
       "      <td>RENT</td>\n",
       "      <td>51979.0</td>\n",
       "      <td>Source Verified</td>\n",
       "      <td>10.11</td>\n",
       "      <td>0</td>\n",
       "      <td>694</td>\n",
       "      <td>...</td>\n",
       "      <td>0.0</td>\n",
       "      <td>0</td>\n",
       "      <td>0</td>\n",
       "      <td>3</td>\n",
       "      <td>100.0</td>\n",
       "      <td>2</td>\n",
       "      <td>18800</td>\n",
       "      <td>5500</td>\n",
       "      <td>N</td>\n",
       "      <td>1</td>\n",
       "    </tr>\n",
       "    <tr>\n",
       "      <th>4</th>\n",
       "      <td>14000</td>\n",
       "      <td>492.34</td>\n",
       "      <td>3</td>\n",
       "      <td>7</td>\n",
       "      <td>MORTGAGE</td>\n",
       "      <td>75000.0</td>\n",
       "      <td>Verified</td>\n",
       "      <td>10.86</td>\n",
       "      <td>1</td>\n",
       "      <td>689</td>\n",
       "      <td>...</td>\n",
       "      <td>0.0</td>\n",
       "      <td>0</td>\n",
       "      <td>0</td>\n",
       "      <td>3</td>\n",
       "      <td>90.0</td>\n",
       "      <td>0</td>\n",
       "      <td>3000</td>\n",
       "      <td>30321</td>\n",
       "      <td>N</td>\n",
       "      <td>1</td>\n",
       "    </tr>\n",
       "  </tbody>\n",
       "</table>\n",
       "<p>5 rows × 37 columns</p>\n",
       "</div>"
      ],
      "text/plain": [
       "   loan_amnt  installment  grade  emp_length home_ownership  annual_inc  \\\n",
       "0      11575       359.26      1           6            OWN    153000.0   \n",
       "1       7200       285.70      5           2           RENT     50000.0   \n",
       "2       7500       232.79      1           7       MORTGAGE    110000.0   \n",
       "3      10000       243.29      3           7           RENT     51979.0   \n",
       "4      14000       492.34      3           7       MORTGAGE     75000.0   \n",
       "\n",
       "  verification_status    dti  delinq_2yrs  fico_range_high  ...  \\\n",
       "0        Not Verified  16.99            0              724  ...   \n",
       "1     Source Verified   6.07            0              689  ...   \n",
       "2        Not Verified  13.12            0              714  ...   \n",
       "3     Source Verified  10.11            0              694  ...   \n",
       "4            Verified  10.86            1              689  ...   \n",
       "\n",
       "   num_tl_120dpd_2m  num_tl_30dpd  num_tl_90g_dpd_24m num_tl_op_past_12m  \\\n",
       "0               0.0             0                   0                  2   \n",
       "1               0.0             0                   0                  0   \n",
       "2               0.0             0                   0                  3   \n",
       "3               0.0             0                   0                  3   \n",
       "4               0.0             0                   0                  3   \n",
       "\n",
       "   pct_tl_nvr_dlq  pub_rec_bankruptcies  total_bc_limit  \\\n",
       "0            95.7                     1           28100   \n",
       "1            80.0                     0            3600   \n",
       "2           100.0                     0           83700   \n",
       "3           100.0                     2           18800   \n",
       "4            90.0                     0            3000   \n",
       "\n",
       "   total_il_high_credit_limit  debt_settlement_flag  Target  \n",
       "0                      120572                     N       1  \n",
       "1                        4000                     N       1  \n",
       "2                       32239                     N       1  \n",
       "3                        5500                     N       1  \n",
       "4                       30321                     N       1  \n",
       "\n",
       "[5 rows x 37 columns]"
      ]
     },
     "execution_count": 34,
     "metadata": {},
     "output_type": "execute_result"
    }
   ],
   "source": [
    "svm.head()"
   ]
  },
  {
   "cell_type": "markdown",
   "metadata": {},
   "source": []
  },
  {
   "cell_type": "markdown",
   "metadata": {},
   "source": [
    "# Downsampling"
   ]
  },
  {
   "cell_type": "markdown",
   "metadata": {},
   "source": [
    "El algoritmo Support Vector Machine funciona muy bien con dataset peaqueños, pero no funciona tan bien cuando tenemos un gran conjunto de datos (como en nuestro caso) porque el tiempo de entrenamiento requerido es mayor. Por eso, vamos a coger una submuestra para agilizar los calculos"
   ]
  },
  {
   "cell_type": "code",
   "execution_count": 35,
   "metadata": {},
   "outputs": [],
   "source": [
    "svm_no_default = svm[svm['Target'] == 1]\n",
    "svm_default = svm[svm['Target'] == 0]"
   ]
  },
  {
   "cell_type": "code",
   "execution_count": 36,
   "metadata": {},
   "outputs": [
    {
     "data": {
      "text/plain": [
       "3000"
      ]
     },
     "execution_count": 36,
     "metadata": {},
     "output_type": "execute_result"
    }
   ],
   "source": [
    "svm_no_default_downsampled = sk.utils.resample(svm_no_default,\n",
    "                                               replace = False,\n",
    "                                               n_samples=3000,\n",
    "                                               random_state=123\n",
    ")\n",
    "len(svm_no_default_downsampled)"
   ]
  },
  {
   "cell_type": "code",
   "execution_count": 37,
   "metadata": {},
   "outputs": [
    {
     "data": {
      "text/plain": [
       "1000"
      ]
     },
     "execution_count": 37,
     "metadata": {},
     "output_type": "execute_result"
    }
   ],
   "source": [
    "svm_default_downsampled = sk.utils.resample(svm_default,\n",
    "                                      replace = False,\n",
    "                                      n_samples=1000,\n",
    "                                      random_state=123\n",
    ")\n",
    "len(svm_default_downsampled)"
   ]
  },
  {
   "cell_type": "code",
   "execution_count": 38,
   "metadata": {},
   "outputs": [
    {
     "data": {
      "text/plain": [
       "4000"
      ]
     },
     "execution_count": 38,
     "metadata": {},
     "output_type": "execute_result"
    }
   ],
   "source": [
    "svm_downsampled = pd.concat([svm_default_downsampled, svm_no_default_downsampled])\n",
    "len(svm_downsampled)"
   ]
  },
  {
   "cell_type": "code",
   "execution_count": null,
   "metadata": {},
   "outputs": [],
   "source": []
  },
  {
   "cell_type": "markdown",
   "metadata": {},
   "source": [
    "# Clasificacion vs prediccion"
   ]
  },
  {
   "cell_type": "markdown",
   "metadata": {},
   "source": [
    "Dividimos el dataset en 2 partes, lo que queremos predecir y lo que usamos para clasificar"
   ]
  },
  {
   "cell_type": "code",
   "execution_count": 39,
   "metadata": {},
   "outputs": [
    {
     "data": {
      "text/html": [
       "<div>\n",
       "<style scoped>\n",
       "    .dataframe tbody tr th:only-of-type {\n",
       "        vertical-align: middle;\n",
       "    }\n",
       "\n",
       "    .dataframe tbody tr th {\n",
       "        vertical-align: top;\n",
       "    }\n",
       "\n",
       "    .dataframe thead th {\n",
       "        text-align: right;\n",
       "    }\n",
       "</style>\n",
       "<table border=\"1\" class=\"dataframe\">\n",
       "  <thead>\n",
       "    <tr style=\"text-align: right;\">\n",
       "      <th></th>\n",
       "      <th>loan_amnt</th>\n",
       "      <th>installment</th>\n",
       "      <th>grade</th>\n",
       "      <th>emp_length</th>\n",
       "      <th>home_ownership</th>\n",
       "      <th>annual_inc</th>\n",
       "      <th>verification_status</th>\n",
       "      <th>dti</th>\n",
       "      <th>delinq_2yrs</th>\n",
       "      <th>fico_range_high</th>\n",
       "      <th>...</th>\n",
       "      <th>num_sats</th>\n",
       "      <th>num_tl_120dpd_2m</th>\n",
       "      <th>num_tl_30dpd</th>\n",
       "      <th>num_tl_90g_dpd_24m</th>\n",
       "      <th>num_tl_op_past_12m</th>\n",
       "      <th>pct_tl_nvr_dlq</th>\n",
       "      <th>pub_rec_bankruptcies</th>\n",
       "      <th>total_bc_limit</th>\n",
       "      <th>total_il_high_credit_limit</th>\n",
       "      <th>debt_settlement_flag</th>\n",
       "    </tr>\n",
       "  </thead>\n",
       "  <tbody>\n",
       "    <tr>\n",
       "      <th>314479</th>\n",
       "      <td>5000</td>\n",
       "      <td>170.87</td>\n",
       "      <td>3</td>\n",
       "      <td>10</td>\n",
       "      <td>MORTGAGE</td>\n",
       "      <td>37000.0</td>\n",
       "      <td>Verified</td>\n",
       "      <td>26.69</td>\n",
       "      <td>0</td>\n",
       "      <td>669</td>\n",
       "      <td>...</td>\n",
       "      <td>11</td>\n",
       "      <td>0.0</td>\n",
       "      <td>0</td>\n",
       "      <td>0</td>\n",
       "      <td>6</td>\n",
       "      <td>100.0</td>\n",
       "      <td>1</td>\n",
       "      <td>4200</td>\n",
       "      <td>34234</td>\n",
       "      <td>N</td>\n",
       "    </tr>\n",
       "    <tr>\n",
       "      <th>271683</th>\n",
       "      <td>24000</td>\n",
       "      <td>774.30</td>\n",
       "      <td>2</td>\n",
       "      <td>0</td>\n",
       "      <td>OWN</td>\n",
       "      <td>95000.0</td>\n",
       "      <td>Not Verified</td>\n",
       "      <td>15.12</td>\n",
       "      <td>2</td>\n",
       "      <td>679</td>\n",
       "      <td>...</td>\n",
       "      <td>23</td>\n",
       "      <td>0.0</td>\n",
       "      <td>0</td>\n",
       "      <td>1</td>\n",
       "      <td>2</td>\n",
       "      <td>92.2</td>\n",
       "      <td>0</td>\n",
       "      <td>20900</td>\n",
       "      <td>264647</td>\n",
       "      <td>N</td>\n",
       "    </tr>\n",
       "    <tr>\n",
       "      <th>230009</th>\n",
       "      <td>35000</td>\n",
       "      <td>886.11</td>\n",
       "      <td>4</td>\n",
       "      <td>10</td>\n",
       "      <td>RENT</td>\n",
       "      <td>85000.0</td>\n",
       "      <td>Verified</td>\n",
       "      <td>17.39</td>\n",
       "      <td>0</td>\n",
       "      <td>699</td>\n",
       "      <td>...</td>\n",
       "      <td>14</td>\n",
       "      <td>0.0</td>\n",
       "      <td>0</td>\n",
       "      <td>0</td>\n",
       "      <td>5</td>\n",
       "      <td>100.0</td>\n",
       "      <td>0</td>\n",
       "      <td>42700</td>\n",
       "      <td>42293</td>\n",
       "      <td>N</td>\n",
       "    </tr>\n",
       "    <tr>\n",
       "      <th>317551</th>\n",
       "      <td>12000</td>\n",
       "      <td>283.28</td>\n",
       "      <td>3</td>\n",
       "      <td>8</td>\n",
       "      <td>MORTGAGE</td>\n",
       "      <td>65000.0</td>\n",
       "      <td>Source Verified</td>\n",
       "      <td>6.74</td>\n",
       "      <td>0</td>\n",
       "      <td>689</td>\n",
       "      <td>...</td>\n",
       "      <td>6</td>\n",
       "      <td>0.0</td>\n",
       "      <td>0</td>\n",
       "      <td>0</td>\n",
       "      <td>3</td>\n",
       "      <td>100.0</td>\n",
       "      <td>0</td>\n",
       "      <td>13200</td>\n",
       "      <td>15850</td>\n",
       "      <td>N</td>\n",
       "    </tr>\n",
       "    <tr>\n",
       "      <th>25074</th>\n",
       "      <td>22000</td>\n",
       "      <td>748.29</td>\n",
       "      <td>3</td>\n",
       "      <td>10</td>\n",
       "      <td>MORTGAGE</td>\n",
       "      <td>50000.0</td>\n",
       "      <td>Source Verified</td>\n",
       "      <td>35.83</td>\n",
       "      <td>1</td>\n",
       "      <td>704</td>\n",
       "      <td>...</td>\n",
       "      <td>17</td>\n",
       "      <td>0.0</td>\n",
       "      <td>0</td>\n",
       "      <td>0</td>\n",
       "      <td>0</td>\n",
       "      <td>97.3</td>\n",
       "      <td>0</td>\n",
       "      <td>71100</td>\n",
       "      <td>0</td>\n",
       "      <td>N</td>\n",
       "    </tr>\n",
       "  </tbody>\n",
       "</table>\n",
       "<p>5 rows × 36 columns</p>\n",
       "</div>"
      ],
      "text/plain": [
       "        loan_amnt  installment  grade  emp_length home_ownership  annual_inc  \\\n",
       "314479       5000       170.87      3          10       MORTGAGE     37000.0   \n",
       "271683      24000       774.30      2           0            OWN     95000.0   \n",
       "230009      35000       886.11      4          10           RENT     85000.0   \n",
       "317551      12000       283.28      3           8       MORTGAGE     65000.0   \n",
       "25074       22000       748.29      3          10       MORTGAGE     50000.0   \n",
       "\n",
       "       verification_status    dti  delinq_2yrs  fico_range_high  ...  \\\n",
       "314479            Verified  26.69            0              669  ...   \n",
       "271683        Not Verified  15.12            2              679  ...   \n",
       "230009            Verified  17.39            0              699  ...   \n",
       "317551     Source Verified   6.74            0              689  ...   \n",
       "25074      Source Verified  35.83            1              704  ...   \n",
       "\n",
       "        num_sats  num_tl_120dpd_2m  num_tl_30dpd num_tl_90g_dpd_24m  \\\n",
       "314479        11               0.0             0                  0   \n",
       "271683        23               0.0             0                  1   \n",
       "230009        14               0.0             0                  0   \n",
       "317551         6               0.0             0                  0   \n",
       "25074         17               0.0             0                  0   \n",
       "\n",
       "        num_tl_op_past_12m  pct_tl_nvr_dlq  pub_rec_bankruptcies  \\\n",
       "314479                   6           100.0                     1   \n",
       "271683                   2            92.2                     0   \n",
       "230009                   5           100.0                     0   \n",
       "317551                   3           100.0                     0   \n",
       "25074                    0            97.3                     0   \n",
       "\n",
       "        total_bc_limit  total_il_high_credit_limit  debt_settlement_flag  \n",
       "314479            4200                       34234                     N  \n",
       "271683           20900                      264647                     N  \n",
       "230009           42700                       42293                     N  \n",
       "317551           13200                       15850                     N  \n",
       "25074            71100                           0                     N  \n",
       "\n",
       "[5 rows x 36 columns]"
      ]
     },
     "execution_count": 39,
     "metadata": {},
     "output_type": "execute_result"
    }
   ],
   "source": [
    "X = svm_downsampled.drop('Target', axis = 1).copy()\n",
    "X.head()"
   ]
  },
  {
   "cell_type": "code",
   "execution_count": 40,
   "metadata": {},
   "outputs": [
    {
     "data": {
      "text/plain": [
       "314479    0\n",
       "271683    0\n",
       "230009    0\n",
       "317551    0\n",
       "25074     0\n",
       "Name: Target, dtype: int64"
      ]
     },
     "execution_count": 40,
     "metadata": {},
     "output_type": "execute_result"
    }
   ],
   "source": [
    "y = svm_downsampled['Target'].copy()\n",
    "y.head()"
   ]
  },
  {
   "cell_type": "markdown",
   "metadata": {},
   "source": [
    "# Encoding"
   ]
  },
  {
   "cell_type": "markdown",
   "metadata": {},
   "source": [
    "one - hot - encoding"
   ]
  },
  {
   "cell_type": "code",
   "execution_count": 41,
   "metadata": {},
   "outputs": [
    {
     "data": {
      "text/plain": [
       "verification_status     3\n",
       "home_ownership          3\n",
       "debt_settlement_flag    2\n",
       "initial_list_status     2\n",
       "dtype: int64"
      ]
     },
     "execution_count": 41,
     "metadata": {},
     "output_type": "execute_result"
    }
   ],
   "source": [
    "X.select_dtypes('object').apply(pd.Series.nunique, axis = 0).sort_values(ascending = False)"
   ]
  },
  {
   "cell_type": "code",
   "execution_count": 42,
   "metadata": {},
   "outputs": [
    {
     "data": {
      "text/html": [
       "<div>\n",
       "<style scoped>\n",
       "    .dataframe tbody tr th:only-of-type {\n",
       "        vertical-align: middle;\n",
       "    }\n",
       "\n",
       "    .dataframe tbody tr th {\n",
       "        vertical-align: top;\n",
       "    }\n",
       "\n",
       "    .dataframe thead th {\n",
       "        text-align: right;\n",
       "    }\n",
       "</style>\n",
       "<table border=\"1\" class=\"dataframe\">\n",
       "  <thead>\n",
       "    <tr style=\"text-align: right;\">\n",
       "      <th></th>\n",
       "      <th>loan_amnt</th>\n",
       "      <th>installment</th>\n",
       "      <th>annual_inc</th>\n",
       "      <th>dti</th>\n",
       "      <th>delinq_2yrs</th>\n",
       "      <th>fico_range_high</th>\n",
       "      <th>pub_rec</th>\n",
       "      <th>revol_bal</th>\n",
       "      <th>total_acc</th>\n",
       "      <th>last_pymnt_amnt</th>\n",
       "      <th>...</th>\n",
       "      <th>verification_status_Not Verified</th>\n",
       "      <th>verification_status_Source Verified</th>\n",
       "      <th>verification_status_Verified</th>\n",
       "      <th>home_ownership_MORTGAGE</th>\n",
       "      <th>home_ownership_OWN</th>\n",
       "      <th>home_ownership_RENT</th>\n",
       "      <th>debt_settlement_flag_N</th>\n",
       "      <th>debt_settlement_flag_Y</th>\n",
       "      <th>initial_list_status_f</th>\n",
       "      <th>initial_list_status_w</th>\n",
       "    </tr>\n",
       "  </thead>\n",
       "  <tbody>\n",
       "    <tr>\n",
       "      <th>314479</th>\n",
       "      <td>5000</td>\n",
       "      <td>170.87</td>\n",
       "      <td>37000.0</td>\n",
       "      <td>26.69</td>\n",
       "      <td>0</td>\n",
       "      <td>669</td>\n",
       "      <td>1</td>\n",
       "      <td>5575</td>\n",
       "      <td>51</td>\n",
       "      <td>170.87</td>\n",
       "      <td>...</td>\n",
       "      <td>0</td>\n",
       "      <td>0</td>\n",
       "      <td>1</td>\n",
       "      <td>1</td>\n",
       "      <td>0</td>\n",
       "      <td>0</td>\n",
       "      <td>1</td>\n",
       "      <td>0</td>\n",
       "      <td>0</td>\n",
       "      <td>1</td>\n",
       "    </tr>\n",
       "    <tr>\n",
       "      <th>271683</th>\n",
       "      <td>24000</td>\n",
       "      <td>774.30</td>\n",
       "      <td>95000.0</td>\n",
       "      <td>15.12</td>\n",
       "      <td>2</td>\n",
       "      <td>679</td>\n",
       "      <td>0</td>\n",
       "      <td>10916</td>\n",
       "      <td>53</td>\n",
       "      <td>774.30</td>\n",
       "      <td>...</td>\n",
       "      <td>1</td>\n",
       "      <td>0</td>\n",
       "      <td>0</td>\n",
       "      <td>0</td>\n",
       "      <td>1</td>\n",
       "      <td>0</td>\n",
       "      <td>1</td>\n",
       "      <td>0</td>\n",
       "      <td>0</td>\n",
       "      <td>1</td>\n",
       "    </tr>\n",
       "    <tr>\n",
       "      <th>230009</th>\n",
       "      <td>35000</td>\n",
       "      <td>886.11</td>\n",
       "      <td>85000.0</td>\n",
       "      <td>17.39</td>\n",
       "      <td>0</td>\n",
       "      <td>699</td>\n",
       "      <td>0</td>\n",
       "      <td>25721</td>\n",
       "      <td>48</td>\n",
       "      <td>886.11</td>\n",
       "      <td>...</td>\n",
       "      <td>0</td>\n",
       "      <td>0</td>\n",
       "      <td>1</td>\n",
       "      <td>0</td>\n",
       "      <td>0</td>\n",
       "      <td>1</td>\n",
       "      <td>1</td>\n",
       "      <td>0</td>\n",
       "      <td>1</td>\n",
       "      <td>0</td>\n",
       "    </tr>\n",
       "    <tr>\n",
       "      <th>317551</th>\n",
       "      <td>12000</td>\n",
       "      <td>283.28</td>\n",
       "      <td>65000.0</td>\n",
       "      <td>6.74</td>\n",
       "      <td>0</td>\n",
       "      <td>689</td>\n",
       "      <td>0</td>\n",
       "      <td>6099</td>\n",
       "      <td>10</td>\n",
       "      <td>283.28</td>\n",
       "      <td>...</td>\n",
       "      <td>0</td>\n",
       "      <td>1</td>\n",
       "      <td>0</td>\n",
       "      <td>1</td>\n",
       "      <td>0</td>\n",
       "      <td>0</td>\n",
       "      <td>1</td>\n",
       "      <td>0</td>\n",
       "      <td>0</td>\n",
       "      <td>1</td>\n",
       "    </tr>\n",
       "    <tr>\n",
       "      <th>25074</th>\n",
       "      <td>22000</td>\n",
       "      <td>748.29</td>\n",
       "      <td>50000.0</td>\n",
       "      <td>35.83</td>\n",
       "      <td>1</td>\n",
       "      <td>704</td>\n",
       "      <td>0</td>\n",
       "      <td>46269</td>\n",
       "      <td>38</td>\n",
       "      <td>748.29</td>\n",
       "      <td>...</td>\n",
       "      <td>0</td>\n",
       "      <td>1</td>\n",
       "      <td>0</td>\n",
       "      <td>1</td>\n",
       "      <td>0</td>\n",
       "      <td>0</td>\n",
       "      <td>1</td>\n",
       "      <td>0</td>\n",
       "      <td>0</td>\n",
       "      <td>1</td>\n",
       "    </tr>\n",
       "  </tbody>\n",
       "</table>\n",
       "<p>5 rows × 58 columns</p>\n",
       "</div>"
      ],
      "text/plain": [
       "        loan_amnt  installment  annual_inc    dti  delinq_2yrs  \\\n",
       "314479       5000       170.87     37000.0  26.69            0   \n",
       "271683      24000       774.30     95000.0  15.12            2   \n",
       "230009      35000       886.11     85000.0  17.39            0   \n",
       "317551      12000       283.28     65000.0   6.74            0   \n",
       "25074       22000       748.29     50000.0  35.83            1   \n",
       "\n",
       "        fico_range_high  pub_rec  revol_bal  total_acc  last_pymnt_amnt  ...  \\\n",
       "314479              669        1       5575         51           170.87  ...   \n",
       "271683              679        0      10916         53           774.30  ...   \n",
       "230009              699        0      25721         48           886.11  ...   \n",
       "317551              689        0       6099         10           283.28  ...   \n",
       "25074               704        0      46269         38           748.29  ...   \n",
       "\n",
       "        verification_status_Not Verified  verification_status_Source Verified  \\\n",
       "314479                                 0                                    0   \n",
       "271683                                 1                                    0   \n",
       "230009                                 0                                    0   \n",
       "317551                                 0                                    1   \n",
       "25074                                  0                                    1   \n",
       "\n",
       "        verification_status_Verified  home_ownership_MORTGAGE  \\\n",
       "314479                             1                        1   \n",
       "271683                             0                        0   \n",
       "230009                             1                        0   \n",
       "317551                             0                        1   \n",
       "25074                              0                        1   \n",
       "\n",
       "        home_ownership_OWN  home_ownership_RENT  debt_settlement_flag_N  \\\n",
       "314479                   0                    0                       1   \n",
       "271683                   1                    0                       1   \n",
       "230009                   0                    1                       1   \n",
       "317551                   0                    0                       1   \n",
       "25074                    0                    0                       1   \n",
       "\n",
       "        debt_settlement_flag_Y  initial_list_status_f  initial_list_status_w  \n",
       "314479                       0                      0                      1  \n",
       "271683                       0                      0                      1  \n",
       "230009                       0                      1                      0  \n",
       "317551                       0                      0                      1  \n",
       "25074                        0                      0                      1  \n",
       "\n",
       "[5 rows x 58 columns]"
      ]
     },
     "execution_count": 42,
     "metadata": {},
     "output_type": "execute_result"
    }
   ],
   "source": [
    "X_encoded = pd.get_dummies(X, columns=['emp_length',\n",
    "                            'grade',\n",
    "                             'verification_status',\n",
    "                             'home_ownership',\n",
    "                             'debt_settlement_flag',\n",
    "                             'initial_list_status'\n",
    "                            ])\n",
    "X_encoded.head()"
   ]
  },
  {
   "cell_type": "code",
   "execution_count": 43,
   "metadata": {},
   "outputs": [
    {
     "data": {
      "text/plain": [
       "Series([], dtype: float64)"
      ]
     },
     "execution_count": 43,
     "metadata": {},
     "output_type": "execute_result"
    }
   ],
   "source": [
    "X_encoded.select_dtypes('object').apply(pd.Series.nunique, axis = 0).sort_values(ascending = False)"
   ]
  },
  {
   "cell_type": "markdown",
   "metadata": {},
   "source": [
    "# Estandarizacion de la informacion"
   ]
  },
  {
   "cell_type": "code",
   "execution_count": 44,
   "metadata": {},
   "outputs": [],
   "source": [
    "X_train, X_test, y_train, y_test = train_test_split(X_encoded, y, random_state = 123)\n",
    "X_train_scalated = preprocessing.scale(X_train)\n",
    "X_test_scalated = preprocessing.scale(X_test)"
   ]
  },
  {
   "cell_type": "code",
   "execution_count": 45,
   "metadata": {},
   "outputs": [
    {
     "data": {
      "text/plain": [
       "((3000, 58), (1000, 58))"
      ]
     },
     "execution_count": 45,
     "metadata": {},
     "output_type": "execute_result"
    }
   ],
   "source": [
    "X_train_scalated.shape, X_test_scalated.shape"
   ]
  },
  {
   "cell_type": "code",
   "execution_count": 46,
   "metadata": {},
   "outputs": [
    {
     "data": {
      "text/plain": [
       "((3000,), (1000,))"
      ]
     },
     "execution_count": 46,
     "metadata": {},
     "output_type": "execute_result"
    }
   ],
   "source": [
    "y_train.shape, y_test.shape"
   ]
  },
  {
   "cell_type": "code",
   "execution_count": null,
   "metadata": {},
   "outputs": [],
   "source": []
  },
  {
   "cell_type": "code",
   "execution_count": null,
   "metadata": {},
   "outputs": [],
   "source": []
  },
  {
   "cell_type": "markdown",
   "metadata": {},
   "source": [
    "# Modelo"
   ]
  },
  {
   "cell_type": "code",
   "execution_count": 47,
   "metadata": {},
   "outputs": [
    {
     "data": {
      "text/plain": [
       "SVC(random_state=123)"
      ]
     },
     "execution_count": 47,
     "metadata": {},
     "output_type": "execute_result"
    }
   ],
   "source": [
    "clf_svm = SVC(random_state = 123)\n",
    "clf_svm.fit(X_train_scalated, y_train)"
   ]
  },
  {
   "cell_type": "code",
   "execution_count": 48,
   "metadata": {},
   "outputs": [
    {
     "name": "stdout",
     "output_type": "stream",
     "text": [
      "[1 0 1 1 1 1 1 1 0 1 1 0 1 0 1 1 1 1 1 0 1 1 1 0 1 1 0 1 1 1 1 1 1 0 1 0 1\n",
      " 1 1 0 1 1 1 1 0 1 0 1 0 1 1 1 1 0 0 1 1 1 1 0 0 0 1 1 1 1 1 1 0 1 1 1 0 1\n",
      " 1 1 1 0 1 1 1 1 1 1 1 1 1 0 1 1 1 0 1 0 1 1 1 1 1 1 1 1 0 1 0 1 1 1 1 1 1\n",
      " 1 1 1 0 1 1 1 1 1 1 1 1 0 0 1 1 1 0 1 1 1 1 0 1 1 1 0 0 1 1 1 1 1 0 0 0 1\n",
      " 0 1 0 1 1 1 0 1 0 1 0 0 1 0 1 1 1 1 1 0 1 1 1 0 1 1 1 0 1 0 1 1 1 0 1 1 1\n",
      " 1 1 1 1 0 0 0 1 1 1 1 1 1 1 1 1 1 0 1 1 1 0 1 1 1 1 0 0 0 1 1 1 1 1 1 1 1\n",
      " 1 1 1 0 1 1 1 1 1 1 1 1 1 1 1 1 1 1 1 0 1 0 1 1 0 1 1 0 1 1 0 1 1 1 1 1 1\n",
      " 0 1 1 1 1 0 1 0 1 1 1 1 1 1 0 1 1 1 1 1 1 1 1 1 1 0 0 1 0 0 1 1 0 1 1 1 1\n",
      " 1 1 1 0 1 1 1 1 1 1 1 1 1 1 0 0 0 0 1 1 1 0 1 1 1 0 1 1 1 0 1 0 1 1 1 1 1\n",
      " 0 1 1 1 1 1 1 1 1 1 1 0 1 0 1 1 1 1 1 1 1 1 1 1 0 1 0 1 0 0 1 1 1 1 0 1 1\n",
      " 1 1 1 1 1 0 0 1 0 1 1 1 1 1 1 1 1 1 1 1 0 0 1 1 0 1 0 1 0 1 1 1 0 1 0 0 0\n",
      " 1 1 1 1 1 0 0 1 1 1 0 1 1 0 1 0 1 1 1 1 0 1 1 1 0 1 1 0 1 1 1 1 0 1 1 1 1\n",
      " 1 0 1 1 1 1 1 1 1 0 1 1 1 1 1 0 0 1 1 0 1 1 0 1 0 1 1 1 1 1 0 1 1 1 1 0 0\n",
      " 1 0 1 0 1 1 1 1 1 1 1 1 0 1 1 1 1 1 0 1 1 1 1 1 0 1 0 0 1 1 1 1 1 1 1 0 1\n",
      " 1 1 1 1 1 1 1 0 1 1 0 1 1 1 1 1 1 1 1 1 0 0 1 1 1 1 0 0 1 1 1 1 1 1 0 1 1\n",
      " 1 0 1 1 1 1 1 1 1 1 1 1 0 0 1 0 1 1 1 1 0 1 1 1 1 1 1 1 1 0 0 1 1 0 1 1 1\n",
      " 1 0 0 0 1 1 1 1 1 1 0 1 1 1 1 0 1 0 1 1 1 1 1 1 1 0 1 1 1 1 1 1 1 1 1 0 1\n",
      " 1 0 1 1 0 0 1 0 1 1 1 1 1 0 1 1 1 1 0 1 0 1 1 0 0 1 1 1 1 1 1 1 1 1 0 1 1\n",
      " 1 1 1 1 1 1 1 1 1 0 1 1 1 1 1 1 1 1 1 1 0 1 0 0 1 1 1 1 1 1 0 0 0 1 1 0 1\n",
      " 1 1 1 1 1 1 1 1 1 1 0 1 1 1 0 0 1 1 0 0 1 0 1 1 1 0 1 1 0 1 1 1 1 1 1 1 1\n",
      " 1 1 0 1 1 1 1 0 1 1 1 1 0 0 0 1 1 0 1 0 0 1 1 1 1 1 1 1 0 1 1 0 1 0 1 1 1\n",
      " 1 1 1 1 1 1 1 1 1 0 1 1 1 1 1 0 1 0 0 1 1 1 1 1 1 0 0 1 0 1 1 1 0 0 1 0 0\n",
      " 1 1 1 0 0 1 1 1 1 1 1 1 1 1 1 1 1 1 1 1 1 1 0 0 1 1 0 1 1 1 0 1 1 0 1 1 1\n",
      " 1 1 1 1 1 1 1 1 1 0 0 1 1 0 1 0 1 1 1 1 1 1 0 1 1 1 0 1 1 1 1 1 0 1 1 1 0\n",
      " 1 1 1 1 0 1 0 1 1 1 0 0 1 0 1 1 1 0 1 1 1 0 1 1 1 1 1 1 1 1 1 1 1 1 1 1 1\n",
      " 1 1 0 1 1 1 1 1 1 1 0 1 1 1 1 1 1 1 1 1 1 1 1 1 1 1 1 0 0 0 1 1 1 1 1 1 1\n",
      " 0 1 0 1 0 1 1 1 1 0 1 1 1 0 1 1 1 0 1 1 0 0 1 1 0 1 1 1 1 1 0 0 1 1 0 1 1\n",
      " 1]\n"
     ]
    }
   ],
   "source": [
    "prediction_test_svm = clf_svm.predict(X_test_scalated)\n",
    "print(prediction_test_svm)"
   ]
  },
  {
   "cell_type": "code",
   "execution_count": 49,
   "metadata": {},
   "outputs": [
    {
     "name": "stdout",
     "output_type": "stream",
     "text": [
      "Accuracy :  0.932\n"
     ]
    },
    {
     "data": {
      "text/plain": [
       "array([[206,  37],\n",
       "       [ 31, 726]], dtype=int64)"
      ]
     },
     "execution_count": 49,
     "metadata": {},
     "output_type": "execute_result"
    }
   ],
   "source": [
    "cm_svm = confusion_matrix(y_test, prediction_test_svm)\n",
    "print (\"Accuracy : \", accuracy_score(y_test, prediction_test_svm))\n",
    "cm_svm"
   ]
  },
  {
   "cell_type": "markdown",
   "metadata": {},
   "source": [
    "Usamos cross validation para optimizar los parametros"
   ]
  },
  {
   "cell_type": "code",
   "execution_count": 50,
   "metadata": {},
   "outputs": [
    {
     "name": "stdout",
     "output_type": "stream",
     "text": [
      "{'C': 100, 'gamma': 'scale', 'kernel': 'linear'}\n"
     ]
    }
   ],
   "source": [
    "param_grid = [\n",
    "    {'C': [0.5,1,10,100],\n",
    "     'gamma': ['scale',1,0.1,0.01,0.001,0.001],\n",
    "     'kernel': ['rbf', 'linear']},\n",
    "]\n",
    "\n",
    "optimal_parametros = GridSearchCV(clf_svm,\n",
    "                                      param_grid,\n",
    "                                      cv=3,\n",
    "                                      scoring='accuracy',\n",
    "                                      verbose=0)\n",
    "optimal_parametros.fit(X_train_scalated, y_train)\n",
    "print(optimal_parametros.best_params_)"
   ]
  },
  {
   "cell_type": "code",
   "execution_count": 51,
   "metadata": {},
   "outputs": [
    {
     "data": {
      "text/plain": [
       "SVC(C=100, kernel='linear', random_state=123)"
      ]
     },
     "execution_count": 51,
     "metadata": {},
     "output_type": "execute_result"
    }
   ],
   "source": [
    "clf_svm = SVC(random_state = 123, C=100, gamma= 'scale', kernel='linear')\n",
    "clf_svm.fit(X_train_scalated, y_train)"
   ]
  },
  {
   "cell_type": "code",
   "execution_count": 52,
   "metadata": {},
   "outputs": [
    {
     "name": "stdout",
     "output_type": "stream",
     "text": [
      "[1 1 1 1 1 1 1 1 1 1 0 0 1 0 1 1 1 1 1 0 1 1 1 0 1 1 0 1 1 1 1 1 1 0 1 0 1\n",
      " 0 1 0 1 1 1 1 0 1 0 0 0 1 1 1 1 0 0 1 1 1 1 0 0 0 1 0 1 1 1 1 0 0 1 1 0 1\n",
      " 1 1 1 0 1 1 1 1 1 1 0 1 1 0 1 1 1 0 1 0 1 1 1 1 1 0 1 1 0 1 0 1 1 0 1 1 0\n",
      " 1 1 1 0 1 1 1 1 1 1 1 1 0 0 1 1 1 0 1 1 1 1 1 1 1 1 0 0 1 1 1 1 1 0 0 0 1\n",
      " 0 1 0 0 1 1 0 1 0 1 0 1 1 0 1 1 1 1 1 0 1 1 1 0 1 1 1 0 1 0 1 1 1 0 1 1 1\n",
      " 1 1 1 1 0 0 0 1 1 1 1 1 1 1 1 1 1 0 1 1 1 0 1 1 1 1 0 0 0 0 1 1 1 1 0 1 1\n",
      " 1 1 1 0 1 1 1 1 1 1 1 1 1 1 1 1 1 1 1 0 1 0 1 1 0 1 1 0 1 1 0 1 1 1 1 1 1\n",
      " 0 1 1 1 1 0 1 0 1 1 1 1 1 1 0 1 1 1 0 1 1 1 1 1 1 0 0 1 0 0 1 0 0 1 1 1 1\n",
      " 1 1 1 0 1 1 1 1 1 1 1 1 1 1 0 0 0 0 1 1 1 0 1 1 1 0 1 1 1 1 1 0 1 1 1 1 1\n",
      " 0 1 1 1 1 1 1 1 1 1 1 0 1 0 1 0 1 1 1 1 1 1 1 1 0 1 0 1 0 0 0 0 1 1 0 1 1\n",
      " 1 1 1 1 1 0 0 1 0 1 1 1 1 1 1 1 1 1 1 1 0 0 1 1 0 1 0 0 0 1 1 1 0 1 0 0 0\n",
      " 1 1 1 1 1 0 0 1 1 1 0 1 0 0 1 1 1 1 1 1 0 1 1 1 0 1 1 0 1 1 1 1 0 1 1 1 1\n",
      " 1 0 1 0 1 1 1 1 1 0 1 1 1 1 1 0 0 1 1 0 1 1 0 1 0 1 1 1 1 1 0 1 1 1 1 0 0\n",
      " 1 1 1 0 1 1 1 1 1 1 1 1 0 1 1 1 1 1 0 1 1 1 1 1 0 1 0 0 1 1 1 1 0 1 1 0 1\n",
      " 1 1 1 1 1 1 1 0 0 1 0 1 1 1 1 1 1 1 1 1 0 0 1 1 1 1 0 0 1 0 1 1 1 1 0 0 1\n",
      " 1 0 1 1 1 0 1 1 1 1 1 1 0 0 1 0 1 1 1 1 0 0 1 1 1 1 1 1 1 0 1 1 1 0 1 1 1\n",
      " 1 0 0 0 1 1 1 1 0 1 0 1 1 1 1 0 1 0 1 1 1 1 1 0 1 0 1 1 1 1 1 1 0 1 1 0 1\n",
      " 1 0 1 1 0 0 1 0 1 1 1 1 1 0 1 1 1 1 0 1 0 1 1 0 0 1 1 1 1 1 1 0 1 1 0 1 1\n",
      " 1 1 1 1 1 1 1 1 1 0 1 1 1 1 1 1 1 1 1 1 0 1 0 0 1 1 1 1 1 1 0 0 0 1 1 0 1\n",
      " 1 1 1 1 1 0 1 1 1 1 0 1 1 1 0 0 1 1 0 0 1 0 1 1 1 0 1 1 0 1 1 1 1 1 1 1 1\n",
      " 1 1 0 1 1 0 1 0 1 1 1 1 0 0 0 1 1 0 1 0 0 0 1 1 1 1 1 1 0 1 1 0 1 0 1 1 1\n",
      " 1 1 1 1 1 1 1 1 1 0 1 1 1 1 1 0 1 0 0 1 1 1 1 1 1 0 0 1 0 1 1 1 0 0 1 0 0\n",
      " 1 1 1 0 0 1 1 1 1 1 1 1 1 1 1 1 1 1 1 1 1 1 0 0 1 1 0 1 1 1 0 1 1 1 1 1 1\n",
      " 1 1 1 1 1 1 1 1 1 0 0 1 1 0 1 0 1 1 1 1 0 1 0 1 1 1 0 1 1 1 1 1 1 1 1 1 0\n",
      " 1 1 1 1 0 1 0 1 1 1 0 0 1 0 1 1 1 0 1 1 1 0 1 1 1 1 1 1 1 1 1 1 1 1 0 1 1\n",
      " 0 1 0 1 1 0 1 1 1 1 1 1 1 1 1 1 1 1 1 1 1 1 1 1 1 1 1 0 0 0 1 1 1 1 1 1 0\n",
      " 0 1 0 1 0 1 1 1 1 1 0 1 0 0 1 1 1 0 1 1 0 1 1 1 0 1 1 1 1 1 0 0 1 1 0 1 1\n",
      " 1]\n"
     ]
    }
   ],
   "source": [
    "prediction_test_svm = clf_svm.predict(X_test_scalated)\n",
    "print(prediction_test_svm)"
   ]
  },
  {
   "cell_type": "code",
   "execution_count": 53,
   "metadata": {},
   "outputs": [
    {
     "name": "stdout",
     "output_type": "stream",
     "text": [
      "Accuracy :  0.951\n"
     ]
    },
    {
     "data": {
      "text/plain": [
       "array([[229,  14],\n",
       "       [ 35, 722]], dtype=int64)"
      ]
     },
     "execution_count": 53,
     "metadata": {},
     "output_type": "execute_result"
    }
   ],
   "source": [
    "cm_svm = confusion_matrix(y_test, prediction_test_svm)\n",
    "print (\"Accuracy : \", accuracy_score(y_test, prediction_test_svm))\n",
    "cm_svm"
   ]
  },
  {
   "cell_type": "code",
   "execution_count": 54,
   "metadata": {},
   "outputs": [],
   "source": [
    "pickle.dump(clf_svm, open(\"clf_svm\", \"wb\"))\n"
   ]
  }
 ],
 "metadata": {
  "kernelspec": {
   "display_name": "LG",
   "language": "python",
   "name": "lendinggroup"
  },
  "language_info": {
   "codemirror_mode": {
    "name": "ipython",
    "version": 3
   },
   "file_extension": ".py",
   "mimetype": "text/x-python",
   "name": "python",
   "nbconvert_exporter": "python",
   "pygments_lexer": "ipython3",
   "version": "3.8.5"
  }
 },
 "nbformat": 4,
 "nbformat_minor": 4
}
